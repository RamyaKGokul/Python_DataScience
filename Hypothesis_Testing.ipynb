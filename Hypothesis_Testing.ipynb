{
  "nbformat": 4,
  "nbformat_minor": 0,
  "metadata": {
    "colab": {
      "provenance": [],
      "authorship_tag": "ABX9TyO+17ZX7oQJmdAyeG3OOuBS",
      "include_colab_link": true
    },
    "kernelspec": {
      "name": "python3",
      "display_name": "Python 3"
    },
    "language_info": {
      "name": "python"
    }
  },
  "cells": [
    {
      "cell_type": "markdown",
      "metadata": {
        "id": "view-in-github",
        "colab_type": "text"
      },
      "source": [
        "<a href=\"https://colab.research.google.com/github/RamyaKGokul/Python_DataScience/blob/main/Hypothesis_Testing.ipynb\" target=\"_parent\"><img src=\"https://colab.research.google.com/assets/colab-badge.svg\" alt=\"Open In Colab\"/></a>"
      ]
    },
    {
      "cell_type": "markdown",
      "source": [
        "#Hypothesis Testing"
      ],
      "metadata": {
        "id": "ko3orH2rxiOB"
      }
    },
    {
      "cell_type": "code",
      "execution_count": null,
      "metadata": {
        "id": "B-1qK7wLvy-K"
      },
      "outputs": [],
      "source": [
        "#Imports\n",
        "import numpy as np\n",
        "import matplotlib.pyplot as plt\n",
        "import pandas as pd\n",
        "import seaborn as sns\n",
        "import scipy.stats as ss\n",
        "%matplotlib inline"
      ]
    },
    {
      "cell_type": "markdown",
      "source": [
        "##Part1 - Computing and visualizing permutation samples\n",
        "\n",
        "\n"
      ],
      "metadata": {
        "id": "EOK_BGaUyeRW"
      }
    },
    {
      "cell_type": "markdown",
      "source": [
        "We will use the Sheffield Weather Station data (see https://www.metoffice.gov.uk/pub/data/weather/uk/climate/stationdata/sheffielddata.txt), paying particular attention to the monthly rainfall in June (a dry month) and November (a wet month). We expect these might be differently distributed, so we will take permutation samples to see how their ECDFs would look if they were identically distributed.\n",
        "\n",
        "The data are stored in the Numpy arrays rain_june and rain_november, respectively.\n",
        "\n",
        "The Python code below shows how to concatenate the two arrays, permute the concatenated array, and split the permuted array into two. It also shows how to plot the ECDF for the original arrays as well as the ECDF for a particular permutation."
      ],
      "metadata": {
        "id": "w13qDcOLxqL-"
      }
    },
    {
      "cell_type": "code",
      "source": [
        "# Relevant numpy arrays\n",
        "rain_june = np.array([ 66.2,  39.7,  76.4,  26.5,  11.2,  61.8,   6.1,  48.4,  89.2,\n",
        "        104,  34,  60.6,  57.1,  79.1,  90.9,  32.3,  63.8,  78.2,\n",
        "        27.5,  43.4,  30.1,  17.3,  77.5,  44.9,  92.2,  39.6,  79.4,\n",
        "        66.1,  53.5,  98.5,  20.8,  55.5,  39.6,  56,  65.1,  14.8,\n",
        "        13.2,  88.1,   8.4,  32.1,  19.6,  40.4,   2.2,  77.5, 105.4,\n",
        "        77.2,  38,  27.1, 111.8,  17.2,  26.7,  23.3,  77.2,  87.2,\n",
        "        27.7,  50.6,  60.3,  15.1,   6,  29.4,  39.3,  56.3,  80.4,\n",
        "        85.3,  68.4,  72.5,  13.3,  28.4,  14.7,  37.4,  49.5,  57.2,\n",
        "        85.9,  82.1,  31.8, 126.6,  30.7,  41.4,  33.9,  13.5,  99.1,\n",
        "        70.2,  91.8,  61.3,  13.7,  54.9,  62.5,  24.2,  69.4,  83.1,\n",
        "        44,  48.5,  11.9,  16.6,  66.4,  90,  34.9, 132.8,  33.4,\n",
        "        225,   7.6,  40.9,  76.5,  48, 140,  55.9,  54.1,  46.4,\n",
        "        68.6,  52.2, 108.3,  14.6,  11.3,  29.8, 130.9, 152.4,  61,\n",
        "        46.6,  43.9,  30.9, 111.1,  68.5,  42.2,   9.8, 285.6,  56.7,\n",
        "       168.2,  41.2,  47.8, 166.6,  37.8,  45.4,  43.2])\n",
        "\n",
        "rain_november = np.array([ 83.6,  30.9,  62.2,  37,  41, 160.2,  18.2, 122.4,  71.3,\n",
        "        44.2,  49.1,  37.6, 114.5,  28.8,  82.5,  71.9,  50.7,  67.7,\n",
        "       112,  63.6,  42.8,  57.2,  99.1,  86.4,  84.4,  38.1,  17.7,\n",
        "       102.2, 101.3,  58,  82, 101.4,  81.4, 100.1,  54.6,  39.6,\n",
        "        57.5,  29.2,  48.8,  37.3, 115.4,  55.6,  62,  95,  84.2,\n",
        "       118.1, 153.2,  83.4, 104.7,  59,  46.4,  50, 147.6,  76.8,\n",
        "        59.9, 101.8, 136.6, 173,  92.5,  37,  59.8, 142.1,   9.9,\n",
        "       158.2,  72.6,  28, 112.9, 119.3, 199.2,  50.7,  44, 170.7,\n",
        "        67.2,  21.4,  61.3,  15.6, 106, 116.2,  42.3,  38.5, 132.5,\n",
        "        40.8, 147.5,  93.9,  71.4,  87.3, 163.7, 141.4,  62.6,  84.9,\n",
        "        28.8, 121.1,  28.6,  32.4, 112,  50,  96.9,  81.8,  70.4,\n",
        "       117.5,  41.2, 124.9,  78.2,  93,  53.5,  50.5,  42.6,  47.9,\n",
        "        73.1, 129.1,  56.9, 103.3,  60.5, 134.3,  93.1,  49.5,  48.2,\n",
        "       167.9,  27, 111.1,  55.4,  36.2,  57.4,  66.8,  58.3,  60,\n",
        "       161.6, 112.7,  37.4, 110.6,  56.6,  95.8, 126.8])"
      ],
      "metadata": {
        "id": "KB2ke93Vx1Az"
      },
      "execution_count": null,
      "outputs": []
    },
    {
      "cell_type": "code",
      "source": [
        "def ecdf(data):\n",
        "    \"\"\"Compute ECDF for a one-dimensional array of measurements.\"\"\"\n",
        "\n",
        "    # Number of data points: n\n",
        "    n = len(data)\n",
        "\n",
        "    # x-data for the ECDF: x\n",
        "    x = np.sort(data)\n",
        "\n",
        "    # y-data for the ECDF: y\n",
        "    y = np.arange(1, n + 1) / n\n",
        "\n",
        "    return x, y\n",
        "\n",
        "# Create and plot ECDFs from original data\n",
        "x_1, y_1 = ecdf(rain_june)\n",
        "x_2, y_2 = ecdf(rain_november)\n",
        "_ = plt.plot(x_1, y_1, marker='.', linestyle='none', color='red', label='rain (June)')\n",
        "_ = plt.plot(x_2, y_2, marker='.', linestyle='none', color='blue', label='rain (December)')\n",
        "\n",
        "# Label axes, set margin, and show plot\n",
        "plt.margins(0.02)\n",
        "_ = plt.xlabel('monthly rainfall (mm)')\n",
        "_ = plt.ylabel('ECDF')\n",
        "plt.legend();\n",
        "plt.show()"
      ],
      "metadata": {
        "id": "Uf4EOSW-x6vA"
      },
      "execution_count": null,
      "outputs": []
    },
    {
      "cell_type": "code",
      "source": [
        "data1 = rain_june\n",
        "data2 = rain_november\n",
        "\n",
        "# Concatenate the data sets: data\n",
        "data = np.concatenate((data1, data2))\n",
        "\n",
        "# Permute the concatenated array: permuted_data\n",
        "permuted_data = np.random.permutation(data)\n",
        "\n",
        "# Split the permuted array into two: perm_sample_1, perm_sample_2\n",
        "perm_sample_1 = permuted_data[:len(data1)]\n",
        "perm_sample_2 = permuted_data[len(data1):]\n",
        "\n",
        "# Compute ECDFs\n",
        "x_1, y_1 = ecdf(perm_sample_1)\n",
        "x_2, y_2 = ecdf(perm_sample_2)\n",
        "\n",
        "# Plot ECDFs of permutation sample\n",
        "_ = plt.plot(x_1, y_1, marker='.', linestyle='none', color='red', alpha=0.2)\n",
        "_ = plt.plot(x_2, y_2, marker='.', linestyle='none', color='blue', alpha=0.2)"
      ],
      "metadata": {
        "id": "LGrwy-cyx9C8"
      },
      "execution_count": null,
      "outputs": []
    },
    {
      "cell_type": "markdown",
      "source": [
        "## Generate permutation samples"
      ],
      "metadata": {
        "id": "sGYtgohYyErb"
      }
    },
    {
      "cell_type": "code",
      "source": [
        "def permutation_sample(data1, data2):\n",
        "  #Concatenating two datasets\n",
        "    data=np.concatenate((data1, data2))\n",
        "    #Creating permuted data from the concatenated data array\n",
        "    permuted_data=np.random.permutation(data)\n",
        "    #Splitting the permuted data array into two: perm_sample_1, perm_sample_2\n",
        "    perm_sample_1=permuted_data[:len(data1)]\n",
        "    perm_sample_2=permuted_data[len(data1):]\n",
        "    return perm_sample_1,perm_sample_2"
      ],
      "metadata": {
        "id": "5EQlYxS5yDUp"
      },
      "execution_count": null,
      "outputs": []
    },
    {
      "cell_type": "code",
      "source": [
        "sns.set()\n",
        "#Plotting permutation data\n",
        "for i in range(50):\n",
        "    d1,d2=permutation_sample(rain_june,rain_november)\n",
        "    for d,c in zip((d1,d2),('red','blue')):\n",
        "      #Computing ECDF and plotting for each permuted data\n",
        "        x,y=ecdf(d)\n",
        "        plt.plot(x, y,marker='.',linestyle='none',color=c,alpha=0.01)\n",
        "#Computing ECDF and plotting for rain_june data\n",
        "x,y=ecdf(rain_june)\n",
        "plt.plot(x, y, marker='.',linestyle='none',color='red',label='June')\n",
        "#Computing ECDF and plotting for rain_november data\n",
        "x,y =ecdf(rain_november)\n",
        "plt.plot(x, y,marker='.',linestyle='none',color='blue',label='November') \n",
        "#Setting x and y labels \n",
        "plt.xlabel('monthly rainfall (mm)')\n",
        "plt.ylabel('ECDF')\n",
        "plt.legend()\n",
        "plt.show()"
      ],
      "metadata": {
        "id": "IXne-_FmyPKo"
      },
      "execution_count": null,
      "outputs": []
    },
    {
      "cell_type": "markdown",
      "source": [
        "##Part 2: Test statistics and p-values\n",
        "Kleinteich and Gorb (Sci. Rep., 4, 5225, 2014) performed an interesting experiment with South American horned frogs. They held a plate connected to a force transducer, along with a bait fly, in front of them. They then measured the impact force and adhesive force of the frog's tongue when it struck the target. (See https://www.nature.com/articles/srep05225 for full paper)\n",
        "\n",
        "Frog A is an adult and Frog B is a juvenile. The researchers measured the impact force of 20 strikes for each frog.\n",
        "\n",
        "In this part, we will test the hypothesis that the two frogs have the same distribution of impact forces.\n",
        "\n",
        "The Python code below reads the data from a CSV file, creates a Pandas data frame, df, and makes a bee swarm plot for the data.\n"
      ],
      "metadata": {
        "id": "CKfCws8NySgh"
      }
    },
    {
      "cell_type": "code",
      "source": [
        "# Read CSV and build dataframe\n",
        "df = pd.read_csv('https://github.com/ogemarques/data-files/raw/main/horned_frog_tongue.csv')\n",
        "\n",
        "# Make bee swarm plot\n",
        "_ = sns.swarmplot(df['ID'], df['impact force (mN)'])\n",
        "\n",
        "# Label axes\n",
        "_ = plt.xlabel('frog')\n",
        "_ = plt.ylabel('impact force (mN)')\n",
        "\n",
        "# Show the plot\n",
        "plt.show()"
      ],
      "metadata": {
        "id": "ytCXAAs9yqQ6"
      },
      "execution_count": null,
      "outputs": []
    },
    {
      "cell_type": "markdown",
      "source": [
        "A permutation replicate is a single value of a statistic computed from a permutation sample.\n",
        "\n",
        "The Python code below shows the draw_perm_reps(), which is useful to generate permutation replicates."
      ],
      "metadata": {
        "id": "sUR5bLWHzC4f"
      }
    },
    {
      "cell_type": "code",
      "source": [
        "# Auxiliary functions\n",
        "def permutation_sample(data1, data2):\n",
        "    \"\"\"Generate a permutation sample from two data sets.\"\"\"\n",
        "\n",
        "    # Concatenate the data sets: data\n",
        "    data = np.concatenate((data1, data2))\n",
        "\n",
        "    # Permute the concatenated array: permuted_data\n",
        "    permuted_data = np.random.permutation(data)\n",
        "\n",
        "    # Split the permuted array into two: perm_sample_1, perm_sample_2\n",
        "    perm_sample_1 = permuted_data[:len(data1)]\n",
        "    perm_sample_2 = permuted_data[len(data1):]\n",
        "\n",
        "    return perm_sample_1, perm_sample_2\n",
        "\n",
        "def draw_perm_reps(data_1, data_2, func, size=1):\n",
        "    \"\"\"Generate multiple permutation replicates.\"\"\"\n",
        "\n",
        "    # Initialize array of replicates: perm_replicates\n",
        "    perm_replicates = np.empty(size)\n",
        "\n",
        "    for i in range(size):\n",
        "        # Generate permutation sample\n",
        "        perm_sample_1, perm_sample_2 = permutation_sample(data_1, data_2)\n",
        "\n",
        "        # Compute the test statistic\n",
        "        perm_replicates[i] = func(perm_sample_1, perm_sample_2)\n",
        "\n",
        "    return perm_replicates"
      ],
      "metadata": {
        "id": "aetGx-94zDc9"
      },
      "execution_count": null,
      "outputs": []
    },
    {
      "cell_type": "markdown",
      "source": [
        "##Testing a difference in means\n",
        "The code below computes the average strike force of Frog A (1.53 N), and that of Frog B (0.71 N) for a difference of 0.82 N. It is possible the frogs strike with the same force and this observed difference was by chance."
      ],
      "metadata": {
        "id": "ajVFE1QC0UyF"
      }
    },
    {
      "cell_type": "code",
      "source": [
        "frog_A = df['ID'] == 'A'\n",
        "frog_B = df['ID'] == 'B'\n",
        "force_a = np.array(df['impact force (mN)'][frog_A])/1000\n",
        "force_b = np.array(df['impact force (mN)'][frog_B])/1000\n",
        "print('The average strike force of Frog A is {:.2f} N'.format(force_a.mean()))\n",
        "print('The average strike force of Frog B is {:.2f} N'.format(force_b.mean()))"
      ],
      "metadata": {
        "id": "M8f-mw600nIt"
      },
      "execution_count": null,
      "outputs": []
    },
    {
      "cell_type": "markdown",
      "source": [
        "Compute the probability of getting at least a 0.82 N difference in mean strike force under the hypothesis that the distributions of strike forces for the two frogs are identical. "
      ],
      "metadata": {
        "id": "aZcJYwtozNWQ"
      }
    },
    {
      "cell_type": "code",
      "source": [
        "def diff_of_means(data1, data2):\n",
        "   #Computing and returning the difference in mean of the two data\n",
        "    return np.mean(data1)-np.mean(data2)\n",
        "#Computing difference of mean of impact force\n",
        "diff_means_2=diff_of_means(force_a,force_b)\n",
        "#Computing mean difference for 100000 samples\n",
        "replicates=draw_perm_reps(force_a,force_b,diff_of_means,100000)\n",
        "#Computing p-value\n",
        "samples_above_std=np.sum(replicates>=diff_means_2)\n",
        "p_value=samples_above_std/len(replicates)\n",
        "#Printing the results\n",
        "print(\"The difference in mean of impact forces of frog A and frog B={:6.2f}\".format(diff_means_2))\n",
        "print(\"The difference in means of experimental data = {}\".format(np.mean(replicates)))\n",
        "print(\"Out of {} permutated samples,{} are >= the difference of mean impact force\".format(len(replicates),samples_above_std))\n",
        "print(\"p-value = {:f}\".format(p_value))"
      ],
      "metadata": {
        "id": "hrpNDiRFzQtq"
      },
      "execution_count": null,
      "outputs": []
    },
    {
      "cell_type": "markdown",
      "source": [
        "Null hypothesis=the distributions of strike forces for the two frogs are identical\n",
        "\n",
        "The p-value we calculated 0.000010 is less than the standard value 0.00005 which implies that there is less than a 0.001% chance that we would observe the empirical value(0.82 N mean difference between impact forces)concluding the likeliness of null hypothesis being true(with the given data).\n",
        "\n",
        "The low p-value increases the statistical significance of the observed difference.So we can reject the null hypothesis and conclude that the distribution of forces between the two frogs is unlikely to have occurred by chance.\n",
        "\n",
        "The above results,low p-value and the conclusion can be easily visualized in a box plot showing the distribution of experimental values and empirical value."
      ],
      "metadata": {
        "id": "aPhXpK3u07gV"
      }
    },
    {
      "cell_type": "code",
      "source": [
        "def plot_exp_mean_diff(): \n",
        "    #Fixing the figure size for clear visulaization\n",
        "    plt.figure(figsize=(12,3))\n",
        "    #Box plotting\n",
        "    ax=sns.boxplot(x=replicates)\n",
        "    #Showing the empirical value line\n",
        "    ax.axvline(diff_means_2,0,1,color='green')\n",
        "    ax.text(diff_means_2,0.45,s='empirical value={:.2f}N'.format(diff_means_2),rotation='90',color='black')\n",
        "    #Fixing the x label\n",
        "    plt.xlabel(\"experimental mean impact force difference(N)\")\n",
        "    plt.show()\n",
        "plot_exp_mean_diff()"
      ],
      "metadata": {
        "id": "_5WQPPnS1YRQ"
      },
      "execution_count": null,
      "outputs": []
    },
    {
      "cell_type": "markdown",
      "source": [
        "The graph above clearly indicates that almost all the experimental values(except an outlier) are less than the empirical value(0.82N).If we consider our null hypothesis true,the empirical value be within the distribution of the experiment values.The empirical value is clearly bordering on the right side of the distribution of the experimental values,making the null hypothesis false."
      ],
      "metadata": {
        "id": "xws-rvqM1ejB"
      }
    },
    {
      "cell_type": "markdown",
      "source": [
        "##Part 3: Test of correlation\n",
        "We will look at the correlation between female literacy and fertility (defined as the average number of children born per woman) throughout the world. For ease of analysis and interpretation, we will work with the illiteracy rate.\n",
        "\n",
        "The Python code below plots the fertility versus illiteracy and computes the Pearson correlation coefficient. The Numpy array illiteracy has the illiteracy rate among females for most of the world's nations. The array fertility has the corresponding fertility data."
      ],
      "metadata": {
        "id": "aStFESOy1g-T"
      }
    },
    {
      "cell_type": "code",
      "source": [
        "df = pd.read_csv('https://github.com/ogemarques/data-files/raw/main/female_literacy_fertility.csv')\n",
        "df.head()\n",
        "illiteracy = 100 - df['female literacy']\n",
        "\n",
        "fertility = df['fertility']\n",
        "\n",
        "def pearson_r(x, y):\n",
        "    \"\"\"Compute Pearson correlation coefficient between two arrays.\"\"\"\n",
        "    # Compute correlation matrix: corr_mat\n",
        "    corr_mat = np.corrcoef(x, y)\n",
        "\n",
        "    # Return entry [0,1]\n",
        "    return corr_mat[0,1]\n",
        "\n",
        "# Plot the illiteracy rate versus fertility\n",
        "_ = plt.plot(illiteracy, fertility, marker='.', linestyle='none')\n",
        "\n",
        "# Set the margins and label axes\n",
        "plt.margins(0.02)\n",
        "_ = plt.xlabel('% illiterate')\n",
        "_ = plt.ylabel('fertility')\n",
        "\n",
        "# Show the plot\n",
        "plt.show()\n",
        "\n",
        "# Show the Pearson correlation coefficient\n",
        "print('Pearson correlation coefficient between illiteracy and fertility: {:.5f}'.format(pearson_r(illiteracy, fertility)))"
      ],
      "metadata": {
        "id": "0-dew4gV1iWy"
      },
      "execution_count": null,
      "outputs": []
    },
    {
      "cell_type": "markdown",
      "source": [
        "The observed correlation between female illiteracy and fertility may just be by chance; the fertility of a given country may actually be totally independent of its illiteracy."
      ],
      "metadata": {
        "id": "k0ZuvZDM1zzC"
      }
    },
    {
      "cell_type": "code",
      "source": [
        "def draw_single_perm_reps(perm_ill,fert,func,size):\n",
        "    #Creating an empty array of size 100000 \n",
        "    replicates=np.empty(size)\n",
        "    for i in range(size):\n",
        "        #Permutating the illiteracy data\n",
        "        permutated=np.random.permutation(perm_ill)\n",
        "        #Computing the pearson coefficient for each permuted data\n",
        "        replicates[i]=func(fert,permutated)\n",
        "    return replicates\n",
        "replicates=draw_single_perm_reps(illiteracy,fertility,pearson_r,100000)\n",
        "#Computing empirical pearson coefficient value\n",
        "empirical_pearson=pearson_r(fertility,illiteracy)\n",
        "#Computing total number of permuted data that has pearson coeff more than empirical pearson coeff\n",
        "experiments_morethan_empirical=np.sum(replicates>empirical_pearson)\n",
        "#Computing p-value\n",
        "p_value=experiments_morethan_empirical/len(replicates)\n",
        "#Printing the results\n",
        "print(\"The empirical Pearson coefficient={}\".format(empirical_pearson))\n",
        "print(\"The experimental mean Pearson coefficient={}\".format(np.mean(replicates)))\n",
        "print(\"Out of {:} permutated samples,{} are > the empirical Pearson coefficient\".format(len(replicates), experiments_morethan_empirical))\n",
        "print(\"p-value={:f}\".format(p_value))"
      ],
      "metadata": {
        "id": "qTuh3iba14oj"
      },
      "execution_count": null,
      "outputs": []
    },
    {
      "cell_type": "markdown",
      "source": [
        "The null hypothesis=The fertility of a given country may actually be totally independent of its illiteracy\n",
        "\n",
        "The p-value we calculated 0.0000 is less than the standard value 0.00005 which implies that the chance that we would observe the empirical result is 0%.Hence we can conclude that the null hypothesis true(with the given data).\n",
        "The empirical pearson coefficient between fertility and illiteracy is 0.8 and experimental mean pearson coefficient is 0.00019 which is very less indicating that the null hypothesis is true.\n",
        "The low p-value increases the statistical significance of the observed difference.So we can reject the null hypothesis and conclude that the relationship between fertility and illiteracy is unlikely to have occurred by chance."
      ],
      "metadata": {
        "id": "Wgv10Vgc1_ZW"
      }
    }
  ]
}