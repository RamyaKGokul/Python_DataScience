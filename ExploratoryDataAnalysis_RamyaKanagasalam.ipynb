{
  "nbformat": 4,
  "nbformat_minor": 0,
  "metadata": {
    "colab": {
      "provenance": []
    },
    "kernelspec": {
      "display_name": "Python [default]",
      "language": "python",
      "name": "python3"
    },
    "language_info": {
      "codemirror_mode": {
        "name": "ipython",
        "version": 3
      },
      "file_extension": ".py",
      "mimetype": "text/x-python",
      "name": "python",
      "nbconvert_exporter": "python",
      "pygments_lexer": "ipython3",
      "version": "3.6.8"
    }
  },
  "cells": [
    {
      "cell_type": "markdown",
      "metadata": {
        "id": "UgM90DRHHHdK"
      },
      "source": [
        "---------\n",
        "### Imports + Google Drive"
      ]
    },
    {
      "cell_type": "code",
      "metadata": {
        "id": "5uC7gGB7H_Kz"
      },
      "source": [
        "# Imports\n",
        "import numpy as np\n",
        "import pandas as pd\n",
        "from pandas import DataFrame, Series\n",
        "import matplotlib.pyplot as plt\n",
        "from scipy.stats import pearsonr\n",
        "from __future__ import division\n",
        "import seaborn as sns\n",
        "sns.set(style='ticks', palette='Set2')\n",
        "%matplotlib inline"
      ],
      "execution_count": 1,
      "outputs": []
    },
    {
      "cell_type": "code",
      "source": [
        "\"\"\"from google.colab import drive\n",
        "drive.mount('/content/drive')\"\"\""
      ],
      "metadata": {
        "colab": {
          "base_uri": "https://localhost:8080/",
          "height": 35
        },
        "id": "uu2ATLRtqT3p",
        "outputId": "f4bf5f41-d485-45b6-c791-c604e4e5d57d"
      },
      "execution_count": 2,
      "outputs": [
        {
          "output_type": "execute_result",
          "data": {
            "text/plain": [
              "\"from google.colab import drive\\ndrive.mount('/content/drive')\""
            ],
            "application/vnd.google.colaboratory.intrinsic+json": {
              "type": "string"
            }
          },
          "metadata": {},
          "execution_count": 2
        }
      ]
    },
    {
      "cell_type": "code",
      "metadata": {
        "id": "B2qHzn_CG8rZ",
        "colab": {
          "base_uri": "https://localhost:8080/",
          "height": 35
        },
        "outputId": "dc66d637-50a3-45ed-a2ea-6b656c3b6040"
      },
      "source": [
        "\"\"\"# Mount Google Drive\n",
        "from google.colab import drive\n",
        "drive.mount('/content/drive')\"\"\""
      ],
      "execution_count": 3,
      "outputs": [
        {
          "output_type": "execute_result",
          "data": {
            "text/plain": [
              "\"# Mount Google Drive\\nfrom google.colab import drive\\ndrive.mount('/content/drive')\""
            ],
            "application/vnd.google.colaboratory.intrinsic+json": {
              "type": "string"
            }
          },
          "metadata": {},
          "execution_count": 3
        }
      ]
    },
    {
      "cell_type": "markdown",
      "metadata": {
        "id": "G2J9o001OKTx"
      },
      "source": [
        "-------------------\n",
        "## Part 1: Salaries"
      ]
    },
    {
      "cell_type": "markdown",
      "source": [
        "The Python code below will load a dataset containing the salaries and demographic data of more than 1000 employees of a hypothetical company, available in the file salaries.csv, which is a simple comma-separated list of labels and values."
      ],
      "metadata": {
        "id": "zrbjEZ-lATjL"
      }
    },
    {
      "cell_type": "code",
      "metadata": {
        "id": "lv1MGinjOKTz",
        "colab": {
          "base_uri": "https://localhost:8080/"
        },
        "outputId": "63d9d381-6418-4ed0-f62e-ed4c5395aa99"
      },
      "source": [
        "url='https://raw.githubusercontent.com/ogemarques/data-files/main/salaries.csv'\n",
        "salaries = pd.read_csv(url) \n",
        "print(salaries.shape)\n",
        "print(salaries.count())"
      ],
      "execution_count": 4,
      "outputs": [
        {
          "output_type": "stream",
          "name": "stdout",
          "text": [
            "(1192, 6)\n",
            "earn      1192\n",
            "height    1192\n",
            "sex       1192\n",
            "ed        1192\n",
            "age       1192\n",
            "race      1192\n",
            "dtype: int64\n"
          ]
        }
      ]
    },
    {
      "cell_type": "code",
      "metadata": {
        "id": "R87GQz-ILPv4",
        "colab": {
          "base_uri": "https://localhost:8080/",
          "height": 206
        },
        "outputId": "930b2bed-4a06-4e26-ed3b-74e47f08ddde"
      },
      "source": [
        "salaries.head()"
      ],
      "execution_count": 6,
      "outputs": [
        {
          "output_type": "execute_result",
          "data": {
            "text/plain": [
              "      earn     height     sex  ed  age   race\n",
              "0  50000.0  74.424439    male  16   45  white\n",
              "1  60000.0  65.537543  female  16   58  white\n",
              "2  30000.0  63.629198  female  16   29  white\n",
              "3  50000.0  63.108562  female  16   91  other\n",
              "4  51000.0  63.402484  female  17   39  white"
            ],
            "text/html": [
              "\n",
              "  <div id=\"df-960547c4-f30c-4af5-8746-926c2e077d12\">\n",
              "    <div class=\"colab-df-container\">\n",
              "      <div>\n",
              "<style scoped>\n",
              "    .dataframe tbody tr th:only-of-type {\n",
              "        vertical-align: middle;\n",
              "    }\n",
              "\n",
              "    .dataframe tbody tr th {\n",
              "        vertical-align: top;\n",
              "    }\n",
              "\n",
              "    .dataframe thead th {\n",
              "        text-align: right;\n",
              "    }\n",
              "</style>\n",
              "<table border=\"1\" class=\"dataframe\">\n",
              "  <thead>\n",
              "    <tr style=\"text-align: right;\">\n",
              "      <th></th>\n",
              "      <th>earn</th>\n",
              "      <th>height</th>\n",
              "      <th>sex</th>\n",
              "      <th>ed</th>\n",
              "      <th>age</th>\n",
              "      <th>race</th>\n",
              "    </tr>\n",
              "  </thead>\n",
              "  <tbody>\n",
              "    <tr>\n",
              "      <th>0</th>\n",
              "      <td>50000.0</td>\n",
              "      <td>74.424439</td>\n",
              "      <td>male</td>\n",
              "      <td>16</td>\n",
              "      <td>45</td>\n",
              "      <td>white</td>\n",
              "    </tr>\n",
              "    <tr>\n",
              "      <th>1</th>\n",
              "      <td>60000.0</td>\n",
              "      <td>65.537543</td>\n",
              "      <td>female</td>\n",
              "      <td>16</td>\n",
              "      <td>58</td>\n",
              "      <td>white</td>\n",
              "    </tr>\n",
              "    <tr>\n",
              "      <th>2</th>\n",
              "      <td>30000.0</td>\n",
              "      <td>63.629198</td>\n",
              "      <td>female</td>\n",
              "      <td>16</td>\n",
              "      <td>29</td>\n",
              "      <td>white</td>\n",
              "    </tr>\n",
              "    <tr>\n",
              "      <th>3</th>\n",
              "      <td>50000.0</td>\n",
              "      <td>63.108562</td>\n",
              "      <td>female</td>\n",
              "      <td>16</td>\n",
              "      <td>91</td>\n",
              "      <td>other</td>\n",
              "    </tr>\n",
              "    <tr>\n",
              "      <th>4</th>\n",
              "      <td>51000.0</td>\n",
              "      <td>63.402484</td>\n",
              "      <td>female</td>\n",
              "      <td>17</td>\n",
              "      <td>39</td>\n",
              "      <td>white</td>\n",
              "    </tr>\n",
              "  </tbody>\n",
              "</table>\n",
              "</div>\n",
              "      <button class=\"colab-df-convert\" onclick=\"convertToInteractive('df-960547c4-f30c-4af5-8746-926c2e077d12')\"\n",
              "              title=\"Convert this dataframe to an interactive table.\"\n",
              "              style=\"display:none;\">\n",
              "        \n",
              "  <svg xmlns=\"http://www.w3.org/2000/svg\" height=\"24px\"viewBox=\"0 0 24 24\"\n",
              "       width=\"24px\">\n",
              "    <path d=\"M0 0h24v24H0V0z\" fill=\"none\"/>\n",
              "    <path d=\"M18.56 5.44l.94 2.06.94-2.06 2.06-.94-2.06-.94-.94-2.06-.94 2.06-2.06.94zm-11 1L8.5 8.5l.94-2.06 2.06-.94-2.06-.94L8.5 2.5l-.94 2.06-2.06.94zm10 10l.94 2.06.94-2.06 2.06-.94-2.06-.94-.94-2.06-.94 2.06-2.06.94z\"/><path d=\"M17.41 7.96l-1.37-1.37c-.4-.4-.92-.59-1.43-.59-.52 0-1.04.2-1.43.59L10.3 9.45l-7.72 7.72c-.78.78-.78 2.05 0 2.83L4 21.41c.39.39.9.59 1.41.59.51 0 1.02-.2 1.41-.59l7.78-7.78 2.81-2.81c.8-.78.8-2.07 0-2.86zM5.41 20L4 18.59l7.72-7.72 1.47 1.35L5.41 20z\"/>\n",
              "  </svg>\n",
              "      </button>\n",
              "      \n",
              "  <style>\n",
              "    .colab-df-container {\n",
              "      display:flex;\n",
              "      flex-wrap:wrap;\n",
              "      gap: 12px;\n",
              "    }\n",
              "\n",
              "    .colab-df-convert {\n",
              "      background-color: #E8F0FE;\n",
              "      border: none;\n",
              "      border-radius: 50%;\n",
              "      cursor: pointer;\n",
              "      display: none;\n",
              "      fill: #1967D2;\n",
              "      height: 32px;\n",
              "      padding: 0 0 0 0;\n",
              "      width: 32px;\n",
              "    }\n",
              "\n",
              "    .colab-df-convert:hover {\n",
              "      background-color: #E2EBFA;\n",
              "      box-shadow: 0px 1px 2px rgba(60, 64, 67, 0.3), 0px 1px 3px 1px rgba(60, 64, 67, 0.15);\n",
              "      fill: #174EA6;\n",
              "    }\n",
              "\n",
              "    [theme=dark] .colab-df-convert {\n",
              "      background-color: #3B4455;\n",
              "      fill: #D2E3FC;\n",
              "    }\n",
              "\n",
              "    [theme=dark] .colab-df-convert:hover {\n",
              "      background-color: #434B5C;\n",
              "      box-shadow: 0px 1px 3px 1px rgba(0, 0, 0, 0.15);\n",
              "      filter: drop-shadow(0px 1px 2px rgba(0, 0, 0, 0.3));\n",
              "      fill: #FFFFFF;\n",
              "    }\n",
              "  </style>\n",
              "\n",
              "      <script>\n",
              "        const buttonEl =\n",
              "          document.querySelector('#df-960547c4-f30c-4af5-8746-926c2e077d12 button.colab-df-convert');\n",
              "        buttonEl.style.display =\n",
              "          google.colab.kernel.accessAllowed ? 'block' : 'none';\n",
              "\n",
              "        async function convertToInteractive(key) {\n",
              "          const element = document.querySelector('#df-960547c4-f30c-4af5-8746-926c2e077d12');\n",
              "          const dataTable =\n",
              "            await google.colab.kernel.invokeFunction('convertToInteractive',\n",
              "                                                     [key], {});\n",
              "          if (!dataTable) return;\n",
              "\n",
              "          const docLinkHtml = 'Like what you see? Visit the ' +\n",
              "            '<a target=\"_blank\" href=https://colab.research.google.com/notebooks/data_table.ipynb>data table notebook</a>'\n",
              "            + ' to learn more about interactive tables.';\n",
              "          element.innerHTML = '';\n",
              "          dataTable['output_type'] = 'display_data';\n",
              "          await google.colab.output.renderOutput(dataTable, element);\n",
              "          const docLink = document.createElement('div');\n",
              "          docLink.innerHTML = docLinkHtml;\n",
              "          element.appendChild(docLink);\n",
              "        }\n",
              "      </script>\n",
              "    </div>\n",
              "  </div>\n",
              "  "
            ]
          },
          "metadata": {},
          "execution_count": 6
        }
      ]
    },
    {
      "cell_type": "code",
      "metadata": {
        "id": "2fmIimSv3RfT",
        "colab": {
          "base_uri": "https://localhost:8080/"
        },
        "outputId": "aa7139af-af02-4215-8f8f-a556874c08f5"
      },
      "source": [
        "print(\"Null value found in the data across each column\\n\",salaries.isnull().sum())\n",
        "print(\"Number of attributes in the given dataset\",salaries.shape[1])"
      ],
      "execution_count": 7,
      "outputs": [
        {
          "output_type": "stream",
          "name": "stdout",
          "text": [
            "Null value found in the data across each column\n",
            " earn      0\n",
            "height    0\n",
            "sex       0\n",
            "ed        0\n",
            "age       0\n",
            "race      0\n",
            "dtype: int64\n",
            "Number of attributes in the given dataset 6\n"
          ]
        }
      ]
    },
    {
      "cell_type": "markdown",
      "metadata": {
        "id": "Ib2qJbwDLSP5"
      },
      "source": [
        "*Enter your text here*\n",
        "\n",
        "*   earn = annual salary of the employee in the company(Type of currency is not mentioned.Will check it later)\n",
        "*   height = height of the employee in inches(Too many decimal digits.We can adjust it later)\n",
        "*   sex = gender of the employee(nominal value)\n",
        "*   ed = number of years of education of the employee(Educational qualification details are missing)\n",
        "*   age = Actual age of the employee(numerical value)\n",
        "*   race = Race of the employee(nominal value)\n",
        "\n"
      ]
    },
    {
      "cell_type": "code",
      "metadata": {
        "id": "jai0zaQ1OKT5",
        "colab": {
          "base_uri": "https://localhost:8080/"
        },
        "outputId": "6a6974a4-75c1-453b-bcba-c7213b27c470"
      },
      "source": [
        "salary = np.array(salaries['earn'])\n",
        "print(\"--- Salary statistics ---\")\n",
        "print(\"Minimum salary (global): ${:6.2f}\".format(np.min(salary)))\n",
        "print(\"Maximum salary (global): ${:6.2f}\".format(np.max(salary)))\n",
        "print(\"Average salary (global): ${:6.2f}\".format(np.mean(salary)))\n",
        "print(\"Median  salary (global): ${:6.2f}\".format(np.median(salary)))"
      ],
      "execution_count": 8,
      "outputs": [
        {
          "output_type": "stream",
          "name": "stdout",
          "text": [
            "--- Salary statistics ---\n",
            "Minimum salary (global): $200.00\n",
            "Maximum salary (global): $200000.00\n",
            "Average salary (global): $23154.77\n",
            "Median  salary (global): $20000.00\n"
          ]
        }
      ]
    },
    {
      "cell_type": "code",
      "metadata": {
        "id": "MQSn8R8MOKT6",
        "colab": {
          "base_uri": "https://localhost:8080/",
          "height": 301
        },
        "outputId": "90d27e18-5b37-4b2e-9c6e-a2f3171d4273"
      },
      "source": [
        "plt.hist(salary)\n",
        "plt.title('Salary Distribution')\n",
        "plt.xlabel('Salary')\n",
        "plt.ylabel('Number of Employees');"
      ],
      "execution_count": 9,
      "outputs": [
        {
          "output_type": "display_data",
          "data": {
            "text/plain": [
              "<Figure size 432x288 with 1 Axes>"
            ],
            "image/png": "[encoded data removed]"
          },
          "metadata": {
            "needs_background": "light"
          }
        }
      ]
    },
    {
      "cell_type": "code",
      "metadata": {
        "id": "DIcrOnZ4OKT8",
        "colab": {
          "base_uri": "https://localhost:8080/",
          "height": 301
        },
        "outputId": "e6cd582b-af97-4878-f376-f7218877c6e2"
      },
      "source": [
        "years = np.array(salaries['ed'])\n",
        "plt.title('Salary vs. Education Level')\n",
        "plt.ylabel('Salary')\n",
        "plt.xlabel('Years of education');\n",
        "plt.scatter(years, salary, alpha=0.5)\n",
        "plt.show()"
      ],
      "execution_count": 10,
      "outputs": [
        {
          "output_type": "display_data",
          "data": {
            "text/plain": [
              "<Figure size 432x288 with 1 Axes>"
            ],
            "image/png": "[encoded data removed]"
          },
          "metadata": {
            "needs_background": "light"
          }
        }
      ]
    },
    {
      "cell_type": "code",
      "metadata": {
        "id": "fllJH1rfOKT_",
        "colab": {
          "base_uri": "https://localhost:8080/"
        },
        "outputId": "65146da0-e771-45c3-a43c-ccea363f0bca"
      },
      "source": [
        "# Compute Pearson coefficient\n",
        "corr, _ = pearsonr(salary,years)\n",
        "print('Correlation coefficient: ',corr)"
      ],
      "execution_count": 11,
      "outputs": [
        {
          "output_type": "stream",
          "name": "stdout",
          "text": [
            "Correlation coefficient:  0.3399765246894847\n"
          ]
        }
      ]
    },
    {
      "cell_type": "markdown",
      "metadata": {
        "id": "-n2_sL4UOKUA"
      },
      "source": [
        "The Pearson correlation coefficient (a value between -1 and 1) can be used to summarize the strength of the linear relationship between two data samples.\n",
        "\n",
        "A simplified way to interpret the result is:\n",
        "- A value of 0 means no correlation\n",
        "- Values below -0.5 or above 0.5 indicates a notable (negative/positive) correlation"
      ]
    },
    {
      "cell_type": "code",
      "metadata": {
        "id": "PyzLB_FILa6y",
        "colab": {
          "base_uri": "https://localhost:8080/",
          "height": 1000
        },
        "outputId": "084a8d2d-55cf-45cf-9265-fe428f21bd9c"
      },
      "source": [
        "print(\"........Analyzing.........\")\n",
        "print(\"Total Headcount of the employees:\",salaries['sex'].count())\n",
        "print(\"Number of female and male employess\\n\",salaries['sex'].value_counts())\n",
        "print(\"Percentage of female and male employees\\n\",salaries['sex'].value_counts(normalize=True).mul(100).round(1))\n",
        "#Creating two numpy arrays to store the salaries of female and male employees\n",
        "sal_female=np.array(salaries[salaries['sex']=='female']['earn'])\n",
        "sal_male=np.array(salaries[salaries['sex']=='male']['earn'])\n",
        "#Computing min,max,avg,median salary of the female and male employee groups\n",
        "print(\"min female salary ${:6.2f}\\nmax female salary ${:6.2f}\\navg female salary ${:6.2f}\\nmedian female salary ${:6.2f}\\n\".format(np.min(sal_female),np.max(sal_female),np.mean(sal_female),np.median(sal_female)))\n",
        "print(\"min male salary ${:6.2f}\\nmax male salary ${:6.2f}\\navg male salary ${:6.2f}\\nmedian male salary ${:6.2f}\\n\".format(np.min(sal_male),np.max(sal_male),np.mean(sal_male),np.median(sal_male)))\n",
        "#Output of the above code cell shows a positive Correlation coefficient value of 0.3399 between education and salary attributes in the given dataset\n",
        "#Plotting to visualize the results\n",
        "#Plot1 between education level and salary of the employees\n",
        "plt.title('Education based salary distribution')\n",
        "plt.ylabel('salary')\n",
        "plt.xlabel('education')\n",
        "plt.scatter(salaries['ed'],salaries['earn'],alpha=0.5)\n",
        "plt.show()\n",
        "#Plot2 between gender and education level\n",
        "plt.title('Gender vs Education')\n",
        "sns.boxplot(x=\"sex\",y=\"ed\",data=salaries,order=[\"female\",\"male\"])\n",
        "plt.show()\n",
        "#Plot3 between gender and salary of the employees\n",
        "plt.title('Gender based salary distribution')\n",
        "sns.boxplot(x=\"sex\",y=\"earn\",data=salaries,order=[\"female\",\"male\"])\n",
        "plt.show()"
      ],
      "execution_count": 12,
      "outputs": [
        {
          "output_type": "stream",
          "name": "stdout",
          "text": [
            "........Analyzing.........\n",
            "Total Headcount of the employees: 1192\n",
            "Number of female and male employess\n",
            " female    687\n",
            "male      505\n",
            "Name: sex, dtype: int64\n",
            "Percentage of female and male employees\n",
            " female    57.6\n",
            "male      42.4\n",
            "Name: sex, dtype: float64\n",
            "min female salary $200.00\n",
            "max female salary $123000.00\n",
            "avg female salary $18280.20\n",
            "median female salary $15000.00\n",
            "\n",
            "min male salary $1000.00\n",
            "max male salary $200000.00\n",
            "avg male salary $29786.13\n",
            "median male salary $25000.00\n",
            "\n"
          ]
        },
        {
          "output_type": "display_data",
          "data": {
            "text/plain": [
              "<Figure size 432x288 with 1 Axes>"
            ],
            "image/png": "[encoded data removed]"
          },
          "metadata": {
            "needs_background": "light"
          }
        },
        {
          "output_type": "display_data",
          "data": {
            "text/plain": [
              "<Figure size 432x288 with 1 Axes>"
            ],
            "image/png": "[encoded data removed]"
          },
          "metadata": {
            "needs_background": "light"
          }
        },
        {
          "output_type": "display_data",
          "data": {
            "text/plain": [
              "<Figure size 432x288 with 1 Axes>"
            ],
            "image/png": "[encoded data removed]"
          },
          "metadata": {
            "needs_background": "light"
          }
        }
      ]
    },
    {
      "cell_type": "markdown",
      "metadata": {
        "id": "2MeVVzBfLeV5"
      },
      "source": [
        "Observation:\n",
        "With the given data,\n",
        "*  First two plots - shows both female and male emlpoyees are more or less equal in their education level with median around 13yrs, maximum 18yrs, minimum around 7 years with few outliers.\n",
        "*  Second plot -  shows male employees earning more than female employees with many outliers.\n",
        "So,Gender bias is seen to some extent with regards to salary but more details on education('ed') is required for further analysis."
      ]
    },
    {
      "cell_type": "markdown",
      "metadata": {
        "id": "34cWPF_jOKUQ"
      },
      "source": [
        "--------------------\n",
        "### Signs of inequality\n",
        "\n",
        "As you can possibly tell by now, this dataset may help us test hypotheses and answer questions related to possible sources of inequality associated with the salary distribution: gender, age, race, etc.. \n",
        "\n",
        "Let's assume, for the sake of argument, that the number of years of education should correlate well with a person's salary (this is clearly a weak argument and the plot and Pearson correlation coefficient computation above suggests that this is *not* the case) and that other suspiciously high (positive or negative) correlations could be interpreted as a sign of inequality."
      ]
    },
    {
      "cell_type": "markdown",
      "metadata": {
        "id": "R1UaYIHoOKUR"
      },
      "source": [
        "---------------------\n",
        "### Hypotheses H1, H2, H3\n",
        "At this point, we will formulate 3 different hypotheses that might suggest that the salary distribution is biased by factors such as age, gender, or race:\n",
        "\n",
        "- H1: Older employees are paid less (i.e., ageism)\n",
        "- H2: Female employees are paid less (i.e., gender bias)\n",
        "- H3: Non-whites are paid less (i.e, race bias)."
      ]
    },
    {
      "cell_type": "markdown",
      "metadata": {
        "id": "rkv4wSP1KeqR"
      },
      "source": [
        "H1:"
      ]
    },
    {
      "cell_type": "code",
      "metadata": {
        "id": "bh7h9mfsLBMw",
        "colab": {
          "base_uri": "https://localhost:8080/",
          "height": 1000
        },
        "outputId": "20f5a1e4-60d0-49fb-d44d-b8dd91ac470f"
      },
      "source": [
        "print(\"..........Analyzing...........\")\n",
        "#Computing min,max,median age of the employees\n",
        "max_age=int(salaries['age'].max())\n",
        "min_age=int(salaries['age'].min())\n",
        "median_age=int(salaries['age'].median())\n",
        "print(\"maximum age:{:2.0f}\\nminimum age:{:2.0f}\\n median age:{:2.0f}\\n\".format(max_age,min_age,median_age))\n",
        "#Computing average salary of the employees globally\n",
        "avg_salary_global=np.mean(salaries['earn'])\n",
        "print(\"average salary of employees globally\\t: ${:6.2f}\".format(avg_salary_global))\n",
        "#Computing min,max,median age employees' salary \n",
        "\"\"\"print(\"max age salary details\\n\",salaries[salaries['age']==max_age]['earn'])\n",
        "print(\"min age salary details\\n\",salaries[salaries['age']==min_age]['earn'])\n",
        "print(\"median salary details\\n\",salaries[salaries['age']==median_age]['earn'])\"\"\"\n",
        "#Computing the deviation in salary for different age groups in two different methods\n",
        "#method 1\n",
        "avg_salary_group1=np.mean(salaries[salaries['age'].between(min_age, median_age)]['earn'])\n",
        "print(\"average salary of employees between age 18-38: ${:6.2f}\".format(avg_salary_group1))\n",
        "avg_salary_group2=np.mean(salaries[salaries['age'].between(median_age, 65)]['earn'])\n",
        "print(\"average salary of employees between age 38-65: ${:6.2f}\".format(avg_salary_group2))\n",
        "avg_salary_group3 = np.mean(salaries[salaries['age'] > 65]['earn'])\n",
        "print(\"average salary of employees between age 65-91: ${:6.2f}\".format(avg_salary_group3))\n",
        "#Computing the salary difference of different age groups from the average salary across the company\n",
        "print(\"Finding deviation by method 1\")\n",
        "print(\"deviation from the average salary of\\ngroup1: ${:2.0f}\\ngroup2: ${:2.0f}\\ngroup3: ${:2.0f}\".format(np.subtract(avg_salary_global,avg_salary_group1),np.subtract(avg_salary_global,avg_salary_group2),np.subtract(avg_salary_global,avg_salary_group3)))\n",
        "#method 2\n",
        "std=salaries.groupby('age')['earn'].agg('std')\n",
        "print(\"\\nFinding deviation by method 2\")\n",
        "print(\"Salary deviation of all age group employees\\n\",std)\n",
        "print(\"min age deviation:\\t{:6.2f}\\nmax age deviation:\\t{:6.2f}\\nmedian age deviation:\\t{:6.2f}\\n\".format(std.loc[min_age],std.loc[max_age],std.loc[median_age]))\n",
        "#Computing Correlation Coefficient between salary and age attributes in the given dataset\n",
        "salary=np.array(salaries['earn'])\n",
        "act_age=np.array(salaries['age'])\n",
        "corr, _ = pearsonr(salary,act_age)\n",
        "print('Correlation between salary and age attribute: ',corr)\n",
        "#Plotting \n",
        "#Plot1 between salary and age of the employees\n",
        "plt.title('salary distribution')\n",
        "plt.ylabel('salary')\n",
        "plt.xlabel('age')\n",
        "plt.scatter(salaries['age'],salaries['earn'],alpha=0.5)\n",
        "plt.show()\n",
        "#Plot2 between education level and age of the employees\n",
        "plt.title('education level')\n",
        "plt.ylabel('age')\n",
        "plt.xlabel('education')\n",
        "plt.scatter(salaries['ed'],salaries['age'],alpha=0.5)\n",
        "plt.show()\n"
      ],
      "execution_count": 13,
      "outputs": [
        {
          "output_type": "stream",
          "name": "stdout",
          "text": [
            "..........Analyzing...........\n",
            "maximum age:91\n",
            "minimum age:18\n",
            " median age:38\n",
            "\n",
            "average salary of employees globally\t: $23154.77\n",
            "average salary of employees between age 18-38: $20597.84\n",
            "average salary of employees between age 38-65: $27947.63\n",
            "average salary of employees between age 65-91: $18259.40\n",
            "Finding deviation by method 1\n",
            "deviation from the average salary of\n",
            "group1: $2557\n",
            "group2: $-4793\n",
            "group3: $4895\n",
            "\n",
            "Finding deviation by method 2\n",
            "Salary deviation of all age group employees\n",
            " age\n",
            "18    11452.226715\n",
            "19     5608.833671\n",
            "20     6350.010816\n",
            "21     8175.805829\n",
            "22    18205.060061\n",
            "          ...     \n",
            "86             NaN\n",
            "87             NaN\n",
            "88             NaN\n",
            "89             NaN\n",
            "91    14224.392196\n",
            "Name: earn, Length: 72, dtype: float64\n",
            "min age deviation:\t11452.23\n",
            "max age deviation:\t14224.39\n",
            "median age deviation:\t30314.11\n",
            "\n",
            "Correlation between salary and age attribute:  0.08100297364190615\n"
          ]
        },
        {
          "output_type": "display_data",
          "data": {
            "text/plain": [
              "<Figure size 432x288 with 1 Axes>"
            ],
            "image/png": "[encoded data removed]"
          },
          "metadata": {
            "needs_background": "light"
          }
        },
        {
          "output_type": "display_data",
          "data": {
            "text/plain": [
              "<Figure size 432x288 with 1 Axes>"
            ],
            "image/png": "[encoded data removed]"
          },
          "metadata": {
            "needs_background": "light"
          }
        }
      ]
    },
    {
      "cell_type": "markdown",
      "source": [
        "Observation:With the given data,\n",
        "  \n",
        "  We can say,ageism is reflected in salary given to the employees in the company.\n",
        "\n",
        "* From method1,\n",
        "  The average salary of young group of employees is below global average which we may consider correct because of their low experience level in the company. \n",
        "  The average salary of older group of employees is below average as well which may be because of ageism.\n",
        "  The average salary of medium age group employees is above average(well paid group).\n",
        "\n",
        "* From method2,\n",
        "  The deviation in salary of median age group employees is high compared to min and max age group employees.\n",
        "\n",
        "* Correlation coefficient between salary and age is 0.08(almost neutral)from which we cannot come to a conclusion.\n",
        "* Plot2- Shows the education level(number of years) of employees\n",
        "in which a good number of older group of employees are well educated but paid less. \n",
        "\n",
        "  But this dataset doesn't have any details about the number of years of experience of the employees in the company and also educational details of the employees which are much needed for further analysis.\n",
        "       "
      ],
      "metadata": {
        "id": "qDRqjT-7dYKw"
      }
    },
    {
      "cell_type": "markdown",
      "metadata": {
        "id": "ylsSA3g6MGB3"
      },
      "source": [
        "H2:"
      ]
    },
    {
      "cell_type": "code",
      "metadata": {
        "id": "6RCqC-wEMMpw",
        "colab": {
          "base_uri": "https://localhost:8080/",
          "height": 924
        },
        "outputId": "eb400587-c6d6-4237-dedc-a7d7e22cf50a"
      },
      "source": [
        "print(\"...........Analyzing..........\")\n",
        "#Computing distinct values of female and male employees\n",
        "print(\"Number of female and male employess\\n\",salaries['sex'].value_counts())\n",
        "#Computing min,max,average salary of female and male employees\n",
        "sal_female=np.array(salaries[salaries['sex']=='female']['earn'])\n",
        "sal_male=np.array(salaries[salaries['sex']=='male']['earn'])\n",
        "print(\"min female salary ${:6.2f}\".format(np.min(sal_female)))\n",
        "print(\"max female salary ${:6.2f}\".format(np.max(sal_female)))\n",
        "print(\"avg female salary ${:6.2f}\\n\\n\".format(np.mean(sal_female)))\n",
        "print(\"min male salary ${:6.2f}\".format(np.min(sal_male)))\n",
        "print(\"max male salary ${:6.2f}\".format(np.max(sal_male)))\n",
        "print(\"avg male salary ${:6.2f}\\n\\n\".format(np.mean(sal_male)))\n",
        "#Computing the ed value most educated female and male employee\n",
        "no_of_years_ed_f=salaries[salaries['sex']=='female']['ed'].max()\n",
        "no_of_years_ed_m=salaries[salaries['sex']=='male']['ed'].max()\n",
        "print(\"max no of years of education-female\\n\",no_of_years_ed_f)\n",
        "print(\"max no of years of education-male\\n\",no_of_years_ed_m)\n",
        "#Plotting\n",
        "#Plot1 between education and gender\n",
        "plt.title('education level')\n",
        "sns.boxplot(x=\"sex\",y=\"ed\",data=salaries,order=[\"male\",\"female\"])\n",
        "plt.show()\n",
        "#Plot2 between salary and gender\n",
        "plt.title('Salary distribution Male vs female')\n",
        "sns.boxplot(x=\"sex\",y=\"earn\",data=salaries,order=[\"male\",\"female\"])\n",
        "plt.show()\n"
      ],
      "execution_count": 14,
      "outputs": [
        {
          "output_type": "stream",
          "name": "stdout",
          "text": [
            "...........Analyzing..........\n",
            "Number of female and male employess\n",
            " female    687\n",
            "male      505\n",
            "Name: sex, dtype: int64\n",
            "min female salary $200.00\n",
            "max female salary $123000.00\n",
            "avg female salary $18280.20\n",
            "\n",
            "\n",
            "min male salary $1000.00\n",
            "max male salary $200000.00\n",
            "avg male salary $29786.13\n",
            "\n",
            "\n",
            "max no of years of education-female\n",
            " 18\n",
            "max no of years of education-male\n",
            " 18\n"
          ]
        },
        {
          "output_type": "display_data",
          "data": {
            "text/plain": [
              "<Figure size 432x288 with 1 Axes>"
            ],
            "image/png": "[encoded data removed]"
          },
          "metadata": {
            "needs_background": "light"
          }
        },
        {
          "output_type": "display_data",
          "data": {
            "text/plain": [
              "<Figure size 432x288 with 1 Axes>"
            ],
            "image/png": "[encoded data removed]"
          },
          "metadata": {
            "needs_background": "light"
          }
        }
      ]
    },
    {
      "cell_type": "markdown",
      "source": [
        "Observation:\n",
        "With the given data,\n",
        "*  First two plots - shows both female and male emlpoyees are more or less equal in their education level with median around 13yrs, maximum 18yrs, minimum around 7 years with few outliers.\n",
        "*  Second plot -  shows male employees earning more than female employees with many outliers. \n",
        "* The maximum number of education years for both male and female are 18 but maximum female salary is less when compared to maximum male salary.\n",
        "\n",
        "So,Gender bias is seen to some extent with regards to salary but more details on eduaction and experience are required for further analysis to come to a final conclusion."
      ],
      "metadata": {
        "id": "R6Czb_ywG9HC"
      }
    },
    {
      "cell_type": "markdown",
      "metadata": {
        "id": "JE_UdkqxMPCJ"
      },
      "source": [
        "H3:"
      ]
    },
    {
      "cell_type": "code",
      "metadata": {
        "id": "runffTqPMQLM",
        "colab": {
          "base_uri": "https://localhost:8080/",
          "height": 747
        },
        "outputId": "9a3c2d1c-99ec-474b-8a53-2a06cfdfee74"
      },
      "source": [
        "print(\"...........Analyzing...........\")\n",
        "#Computing number of employees in each race given in the dataset\n",
        "print(\"Number of employees of different races\\n\",salaries['race'].value_counts())\n",
        "#Computing max,average salary of the employees in each race\n",
        "print(\"Max salary of whites\\n\",salaries[salaries['race']=='white']['earn'].max())\n",
        "print(\"Max salary of blacks\\n\",salaries[salaries['race']=='black']['earn'].max())\n",
        "print(\"Max salary of hispanics\\n\",salaries[salaries['race']=='hispanic']['earn'].max())\n",
        "print(\"Max salary of others\\n\",salaries[salaries['race']=='other']['earn'].max())\n",
        "print(\"Avg salary global:${:6.2f}\\n\".format(salaries['earn'].mean()))\n",
        "print(\"Avg salary of whites:${:6.2f}\\n\".format(salaries[salaries['race']=='white']['earn'].mean()))\n",
        "print(\"Avg salary of blacks:${:6.2f}\\n\".format(salaries[salaries['race']=='black']['earn'].mean()))\n",
        "print(\"Avg salary of hispanics:${:6.2f}\\n\".format(salaries[salaries['race']=='hispanic']['earn'].mean()))\n",
        "print(\"Avg salary of others:${:6.2f}\\n\".format(salaries[salaries['race']=='other']['earn'].mean()))\n",
        "#Plotting\n",
        "plt.title('Races-Salary distribution')\n",
        "sns.boxplot(x=\"race\",y=\"earn\",data=salaries,order=[\"white\",\"black\",\"hispanic\",\"other\"])\n",
        "plt.show()\n"
      ],
      "execution_count": 15,
      "outputs": [
        {
          "output_type": "stream",
          "name": "stdout",
          "text": [
            "...........Analyzing...........\n",
            "Number of employees of different races\n",
            " white       989\n",
            "black       112\n",
            "hispanic     66\n",
            "other        25\n",
            "Name: race, dtype: int64\n",
            "Max salary of whites\n",
            " 200000.0\n",
            "Max salary of blacks\n",
            " 60000.0\n",
            "Max salary of hispanics\n",
            " 55000.0\n",
            "Max salary of others\n",
            " 110000.0\n",
            "Avg salary global:$23154.77\n",
            "\n",
            "Avg salary of whites:$23882.47\n",
            "\n",
            "Avg salary of blacks:$19624.21\n",
            "\n",
            "Avg salary of hispanics:$18263.64\n",
            "\n",
            "Avg salary of others:$23096.64\n",
            "\n"
          ]
        },
        {
          "output_type": "display_data",
          "data": {
            "text/plain": [
              "<Figure size 432x288 with 1 Axes>"
            ],
            "image/png": "[encoded data removed]"
          },
          "metadata": {
            "needs_background": "light"
          }
        }
      ]
    },
    {
      "cell_type": "markdown",
      "source": [
        "Observation:With the given data,\n",
        "\n",
        "* From the average salary of employees(no big difference is seen) in each disticnt race, no race bias is seen because the total number of white employees are more when compared to other three categories.\n",
        "* But when we observe the plot, a huge number of outliers can be seen in the whites category compared to other three categories.This shows more whites are working in higher tier jobs.\n",
        "\n",
        "So, Race bias is seen to some extent in the company at a higher tier employment positions but educational qualification of employees are needed for further analysis."
      ],
      "metadata": {
        "id": "I0kHkLmaNONK"
      }
    },
    {
      "cell_type": "markdown",
      "metadata": {
        "id": "fiXV2xUI7lUZ"
      },
      "source": [
        "-------------------\n",
        "## Part 2: Fuel consumption"
      ]
    },
    {
      "cell_type": "markdown",
      "metadata": {
        "id": "0EDk6NGk8YsH"
      },
      "source": [
        "The Python code below will load a dataset containing fuel consumption data for ~400 vehicles produced in the 1970s and the 1980s along with some characteristic information associated with each model. \n",
        "\n",
        "Here, *displacement* refers to a vehicle's engine size and the fuel efficiency is measured in miles per gallon (mpg).\n",
        "\n",
        "See:\n",
        "https://archive.ics.uci.edu/ml/datasets/Auto+MPG for additional information."
      ]
    },
    {
      "cell_type": "code",
      "metadata": {
        "id": "4dkSabDG5gjc",
        "colab": {
          "base_uri": "https://localhost:8080/"
        },
        "outputId": "65e01ae8-913b-4777-8072-7712bdb923b1"
      },
      "source": [
        "data = pd.read_csv(\"http://archive.ics.uci.edu/ml/machine-learning-databases/auto-mpg/auto-mpg.data-original\",\n",
        "                   delim_whitespace = True, header=None,\n",
        "                   names = ['mpg', 'cylinders', 'displacement', 'horsepower', 'weight', 'acceleration',\n",
        "                            'model', 'origin', 'car_name'])\n",
        "print(data.shape)"
      ],
      "execution_count": 18,
      "outputs": [
        {
          "output_type": "stream",
          "name": "stdout",
          "text": [
            "(406, 9)\n"
          ]
        }
      ]
    },
    {
      "cell_type": "code",
      "metadata": {
        "id": "WVNr-0SxD7Ai",
        "colab": {
          "base_uri": "https://localhost:8080/",
          "height": 224
        },
        "outputId": "a6b45209-cfef-4e56-f0e5-cce8c8be899c"
      },
      "source": [
        "data.dropna(inplace=True)\n",
        "print(data.shape)\n",
        "data.head()"
      ],
      "execution_count": 19,
      "outputs": [
        {
          "output_type": "stream",
          "name": "stdout",
          "text": [
            "(392, 9)\n"
          ]
        },
        {
          "output_type": "execute_result",
          "data": {
            "text/plain": [
              "    mpg  cylinders  displacement  horsepower  weight  acceleration  model  \\\n",
              "0  18.0        8.0         307.0       130.0  3504.0          12.0   70.0   \n",
              "1  15.0        8.0         350.0       165.0  3693.0          11.5   70.0   \n",
              "2  18.0        8.0         318.0       150.0  3436.0          11.0   70.0   \n",
              "3  16.0        8.0         304.0       150.0  3433.0          12.0   70.0   \n",
              "4  17.0        8.0         302.0       140.0  3449.0          10.5   70.0   \n",
              "\n",
              "   origin                   car_name  \n",
              "0     1.0  chevrolet chevelle malibu  \n",
              "1     1.0          buick skylark 320  \n",
              "2     1.0         plymouth satellite  \n",
              "3     1.0              amc rebel sst  \n",
              "4     1.0                ford torino  "
            ],
            "text/html": [
              "\n",
              "  <div id=\"df-64c1b918-1735-4cd1-b685-651481d6cdcb\">\n",
              "    <div class=\"colab-df-container\">\n",
              "      <div>\n",
              "<style scoped>\n",
              "    .dataframe tbody tr th:only-of-type {\n",
              "        vertical-align: middle;\n",
              "    }\n",
              "\n",
              "    .dataframe tbody tr th {\n",
              "        vertical-align: top;\n",
              "    }\n",
              "\n",
              "    .dataframe thead th {\n",
              "        text-align: right;\n",
              "    }\n",
              "</style>\n",
              "<table border=\"1\" class=\"dataframe\">\n",
              "  <thead>\n",
              "    <tr style=\"text-align: right;\">\n",
              "      <th></th>\n",
              "      <th>mpg</th>\n",
              "      <th>cylinders</th>\n",
              "      <th>displacement</th>\n",
              "      <th>horsepower</th>\n",
              "      <th>weight</th>\n",
              "      <th>acceleration</th>\n",
              "      <th>model</th>\n",
              "      <th>origin</th>\n",
              "      <th>car_name</th>\n",
              "    </tr>\n",
              "  </thead>\n",
              "  <tbody>\n",
              "    <tr>\n",
              "      <th>0</th>\n",
              "      <td>18.0</td>\n",
              "      <td>8.0</td>\n",
              "      <td>307.0</td>\n",
              "      <td>130.0</td>\n",
              "      <td>3504.0</td>\n",
              "      <td>12.0</td>\n",
              "      <td>70.0</td>\n",
              "      <td>1.0</td>\n",
              "      <td>chevrolet chevelle malibu</td>\n",
              "    </tr>\n",
              "    <tr>\n",
              "      <th>1</th>\n",
              "      <td>15.0</td>\n",
              "      <td>8.0</td>\n",
              "      <td>350.0</td>\n",
              "      <td>165.0</td>\n",
              "      <td>3693.0</td>\n",
              "      <td>11.5</td>\n",
              "      <td>70.0</td>\n",
              "      <td>1.0</td>\n",
              "      <td>buick skylark 320</td>\n",
              "    </tr>\n",
              "    <tr>\n",
              "      <th>2</th>\n",
              "      <td>18.0</td>\n",
              "      <td>8.0</td>\n",
              "      <td>318.0</td>\n",
              "      <td>150.0</td>\n",
              "      <td>3436.0</td>\n",
              "      <td>11.0</td>\n",
              "      <td>70.0</td>\n",
              "      <td>1.0</td>\n",
              "      <td>plymouth satellite</td>\n",
              "    </tr>\n",
              "    <tr>\n",
              "      <th>3</th>\n",
              "      <td>16.0</td>\n",
              "      <td>8.0</td>\n",
              "      <td>304.0</td>\n",
              "      <td>150.0</td>\n",
              "      <td>3433.0</td>\n",
              "      <td>12.0</td>\n",
              "      <td>70.0</td>\n",
              "      <td>1.0</td>\n",
              "      <td>amc rebel sst</td>\n",
              "    </tr>\n",
              "    <tr>\n",
              "      <th>4</th>\n",
              "      <td>17.0</td>\n",
              "      <td>8.0</td>\n",
              "      <td>302.0</td>\n",
              "      <td>140.0</td>\n",
              "      <td>3449.0</td>\n",
              "      <td>10.5</td>\n",
              "      <td>70.0</td>\n",
              "      <td>1.0</td>\n",
              "      <td>ford torino</td>\n",
              "    </tr>\n",
              "  </tbody>\n",
              "</table>\n",
              "</div>\n",
              "      <button class=\"colab-df-convert\" onclick=\"convertToInteractive('df-64c1b918-1735-4cd1-b685-651481d6cdcb')\"\n",
              "              title=\"Convert this dataframe to an interactive table.\"\n",
              "              style=\"display:none;\">\n",
              "        \n",
              "  <svg xmlns=\"http://www.w3.org/2000/svg\" height=\"24px\"viewBox=\"0 0 24 24\"\n",
              "       width=\"24px\">\n",
              "    <path d=\"M0 0h24v24H0V0z\" fill=\"none\"/>\n",
              "    <path d=\"M18.56 5.44l.94 2.06.94-2.06 2.06-.94-2.06-.94-.94-2.06-.94 2.06-2.06.94zm-11 1L8.5 8.5l.94-2.06 2.06-.94-2.06-.94L8.5 2.5l-.94 2.06-2.06.94zm10 10l.94 2.06.94-2.06 2.06-.94-2.06-.94-.94-2.06-.94 2.06-2.06.94z\"/><path d=\"M17.41 7.96l-1.37-1.37c-.4-.4-.92-.59-1.43-.59-.52 0-1.04.2-1.43.59L10.3 9.45l-7.72 7.72c-.78.78-.78 2.05 0 2.83L4 21.41c.39.39.9.59 1.41.59.51 0 1.02-.2 1.41-.59l7.78-7.78 2.81-2.81c.8-.78.8-2.07 0-2.86zM5.41 20L4 18.59l7.72-7.72 1.47 1.35L5.41 20z\"/>\n",
              "  </svg>\n",
              "      </button>\n",
              "      \n",
              "  <style>\n",
              "    .colab-df-container {\n",
              "      display:flex;\n",
              "      flex-wrap:wrap;\n",
              "      gap: 12px;\n",
              "    }\n",
              "\n",
              "    .colab-df-convert {\n",
              "      background-color: #E8F0FE;\n",
              "      border: none;\n",
              "      border-radius: 50%;\n",
              "      cursor: pointer;\n",
              "      display: none;\n",
              "      fill: #1967D2;\n",
              "      height: 32px;\n",
              "      padding: 0 0 0 0;\n",
              "      width: 32px;\n",
              "    }\n",
              "\n",
              "    .colab-df-convert:hover {\n",
              "      background-color: #E2EBFA;\n",
              "      box-shadow: 0px 1px 2px rgba(60, 64, 67, 0.3), 0px 1px 3px 1px rgba(60, 64, 67, 0.15);\n",
              "      fill: #174EA6;\n",
              "    }\n",
              "\n",
              "    [theme=dark] .colab-df-convert {\n",
              "      background-color: #3B4455;\n",
              "      fill: #D2E3FC;\n",
              "    }\n",
              "\n",
              "    [theme=dark] .colab-df-convert:hover {\n",
              "      background-color: #434B5C;\n",
              "      box-shadow: 0px 1px 3px 1px rgba(0, 0, 0, 0.15);\n",
              "      filter: drop-shadow(0px 1px 2px rgba(0, 0, 0, 0.3));\n",
              "      fill: #FFFFFF;\n",
              "    }\n",
              "  </style>\n",
              "\n",
              "      <script>\n",
              "        const buttonEl =\n",
              "          document.querySelector('#df-64c1b918-1735-4cd1-b685-651481d6cdcb button.colab-df-convert');\n",
              "        buttonEl.style.display =\n",
              "          google.colab.kernel.accessAllowed ? 'block' : 'none';\n",
              "\n",
              "        async function convertToInteractive(key) {\n",
              "          const element = document.querySelector('#df-64c1b918-1735-4cd1-b685-651481d6cdcb');\n",
              "          const dataTable =\n",
              "            await google.colab.kernel.invokeFunction('convertToInteractive',\n",
              "                                                     [key], {});\n",
              "          if (!dataTable) return;\n",
              "\n",
              "          const docLinkHtml = 'Like what you see? Visit the ' +\n",
              "            '<a target=\"_blank\" href=https://colab.research.google.com/notebooks/data_table.ipynb>data table notebook</a>'\n",
              "            + ' to learn more about interactive tables.';\n",
              "          element.innerHTML = '';\n",
              "          dataTable['output_type'] = 'display_data';\n",
              "          await google.colab.output.renderOutput(dataTable, element);\n",
              "          const docLink = document.createElement('div');\n",
              "          docLink.innerHTML = docLinkHtml;\n",
              "          element.appendChild(docLink);\n",
              "        }\n",
              "      </script>\n",
              "    </div>\n",
              "  </div>\n",
              "  "
            ]
          },
          "metadata": {},
          "execution_count": 19
        }
      ]
    },
    {
      "cell_type": "code",
      "metadata": {
        "id": "mZAzqwkfNHmy",
        "colab": {
          "base_uri": "https://localhost:8080/"
        },
        "outputId": "8b670f52-bb1b-4607-f506-1dd9af84c55b"
      },
      "source": [
        "#Computing Number of 3 and 5 cylinder vhicles\n",
        "t=data[data['cylinders'] == 3.0]['cylinders'].count()\n",
        "print(\"Number of 3 cylinder vehicles\",t)\n",
        "f=data[data['cylinders'] == 5.0]['cylinders'].count()\n",
        "data1=data\n",
        "print(\"Number of 5 cylinder vehicles\",f)\n",
        "data=data[(data.cylinders != 3.0 ) & (data.cylinders != 5.0 )]\n",
        "print(data.shape)\n",
        "#Computing min,max,average fuel consumption of 4,6 and 8 cylinder vehicles\n",
        "print(\"4 cylinder vehicles:\\nmin fuel consumption:{:2.1f}\\nmax fuel consumption:{:2.1f}\\navg fuel consumption:{:2.1f}\\n\".format(data[data['cylinders']== 4.0]['mpg'].min(),data[data['cylinders']== 4.0]['mpg'].max(),data[data['cylinders']== 4.0]['mpg'].mean()))\n",
        "print(\"6 cylinder vehicles:\\nmin fuel consumption:{:2.1f}\\nmax fuel consumption:{:2.1f}\\navg fuel consumption:{:2.1f}\\n\".format(data[data['cylinders']== 6.0]['mpg'].min(),data[data['cylinders']== 6.0]['mpg'].max(),data[data['cylinders']== 6.0]['mpg'].mean()))\n",
        "print(\"8 cylinder vehicles:\\nmin fuel consumption:{:2.1f}\\nmax fuel consumption:{:2.1f}\\navg fuel consumption:{:2.1f}\\n\".format(data[data['cylinders']== 8.0]['mpg'].min(),data[data['cylinders']== 8.0]['mpg'].max(),data[data['cylinders']== 8.0]['mpg'].mean()))\n",
        "#Computing Most and Least fuel efficient vehicle\n",
        "n=data1['mpg'].max()\n",
        "n1=data1['mpg'].min()\n",
        "print(\"Most fuel efficient vehicle\",data1[data1['mpg']==n]['car_name'])\n",
        "print(\"Least fuel efficient vehicle\",data1[data1['mpg']==n1]['car_name'])\n"
      ],
      "execution_count": null,
      "outputs": [
        {
          "output_type": "stream",
          "name": "stdout",
          "text": [
            "Number of 3 cylinder vehicles 4\n",
            "Number of 5 cylinder vehicles 3\n",
            "(385, 9)\n",
            "4 cylinder vehicles:\n",
            "min fuel consumption:18.0\n",
            "max fuel consumption:46.6\n",
            "avg fuel consumption:29.3\n",
            "\n",
            "6 cylinder vehicles:\n",
            "min fuel consumption:15.0\n",
            "max fuel consumption:38.0\n",
            "avg fuel consumption:20.0\n",
            "\n",
            "8 cylinder vehicles:\n",
            "min fuel consumption:9.0\n",
            "max fuel consumption:26.6\n",
            "avg fuel consumption:15.0\n",
            "\n",
            "Most fuel efficient vehicle 329    mazda glc\n",
            "Name: car_name, dtype: object\n",
            "Least fuel efficient vehicle 34    hi 1200d\n",
            "Name: car_name, dtype: object\n"
          ]
        }
      ]
    },
    {
      "cell_type": "markdown",
      "metadata": {
        "id": "wVPtqqJyNJ13"
      },
      "source": [
        "In the given dataset,\n",
        "* There are '4' three cylinder vehicles and '3' five cylinder vehicles and the drop of these 7 rows has given a dataframe of shape (385,9).\n",
        "* 8 cylinder vehicles consume less fuel compared to others given in the data.\n",
        "* Most fuel efficient vehicle is mazda glc and least fuel effecient is hi 1200d.(both before and after dropping rows of 3 and 5 cylinder vehicles)"
      ]
    },
    {
      "cell_type": "markdown",
      "metadata": {
        "id": "rzrD2ZFgAaIM"
      },
      "source": [
        "Python code to plot the relationship between:\n",
        "\n",
        "1. Fuel consumption and displacement (engine size)\n",
        "2. Fuel consumption and weight\n",
        "3. Fuel consumption and horsepower (HP)\n"
      ]
    },
    {
      "cell_type": "code",
      "metadata": {
        "id": "90zGNrduRYn8",
        "colab": {
          "base_uri": "https://localhost:8080/",
          "height": 923
        },
        "outputId": "1aafd41f-fb75-4fad-f420-f98ba270ee1a"
      },
      "source": [
        "#Computing correlation coefficient for fuel efficiency and displacement,weight,horsepower\n",
        "fe=np.array(data['mpg'])\n",
        "disp=np.array(data['displacement'])\n",
        "wt=np.array(data['weight'])\n",
        "hp=np.array(data['horsepower'])\n",
        "corr, _ = pearsonr(fe,disp)\n",
        "print('Correlation between fuel efficiency and displacement:',corr)\n",
        "corr1, _ =pearsonr(fe,wt)\n",
        "print('Correlation between fuel efficiency and weight of the vehicle:',corr1)\n",
        "corr2, _ =pearsonr(fe,hp)\n",
        "print('Correlation between fuel efficiency and horsepower of the vehicle:',corr2)\n",
        "#Plotting\n",
        "#Plot1 between fuel consumption and displacement\n",
        "plt.title(\"Fuel consumption and displacement\")\n",
        "plt.ylabel(\"Fuel efficiency in mpg\")\n",
        "plt.xlabel(\"engine size\")\n",
        "plt.bar(data['displacement'],data['mpg'], width=1, edgecolor=\"red\", linewidth=1.0)\n",
        "plt.show()\n",
        "#Plot2 between fuel consumption and weight of the vehicle\n",
        "plt.title(\"Fuel consumption and Weight\")\n",
        "plt.ylabel(\"Fuel efficiency in mpg\")\n",
        "plt.xlabel(\"Weight\")\n",
        "plt.bar(data['weight'],data['mpg'], width=1, edgecolor=\"orange\", linewidth=1.0)\n",
        "plt.show()\n",
        "#Plot3 between fuel consumption and horsepower of the vehicle\n",
        "plt.title(\"Fuel consumption and Horsepower\")\n",
        "plt.ylabel(\"Fuel efficiency in mpg\")\n",
        "plt.xlabel(\"Horsepower\")\n",
        "plt.bar(data['horsepower'],data['mpg'], width=1, edgecolor=\"green\", linewidth=1.0)\n",
        "plt.show()"
      ],
      "execution_count": 20,
      "outputs": [
        {
          "output_type": "stream",
          "name": "stdout",
          "text": [
            "Correlation between fuel efficiency and displacement: -0.8051269467104578\n",
            "Correlation between fuel efficiency and weight of the vehicle: -0.8322442148315753\n",
            "Correlation between fuel efficiency and horsepower of the vehicle: -0.7784267838977761\n"
          ]
        },
        {
          "output_type": "display_data",
          "data": {
            "text/plain": [
              "<Figure size 432x288 with 1 Axes>"
            ],
            "image/png": "[encoded data removed]"
          },
          "metadata": {
            "needs_background": "light"
          }
        },
        {
          "output_type": "display_data",
          "data": {
            "text/plain": [
              "<Figure size 432x288 with 1 Axes>"
            ],
            "image/png": "[encoded data removed]"
          },
          "metadata": {
            "needs_background": "light"
          }
        },
        {
          "output_type": "display_data",
          "data": {
            "text/plain": [
              "<Figure size 432x288 with 1 Axes>"
            ],
            "image/png": "[encoded data removed]"
          },
          "metadata": {
            "needs_background": "light"
          }
        }
      ]
    },
    {
      "cell_type": "markdown",
      "metadata": {
        "id": "_y2Wmnm4RZv1"
      },
      "source": [
        "Observation:\n",
        "* Plot 1-Fuel efficiency is more when displacement(engine size) is less.\n",
        "* Plot 2-Fuel efficiency is more when vehicle's weight is less.\n",
        "* Plot 3-Fuel efficiency is more when horsepower is less.\n",
        "* Correlation between \n",
        "                      fuel efficiency-displacement=negative\n",
        "                      fuel efficiency-weight=negative\n",
        "                      fuel efficiency-horsepower=negative\n",
        "The above observations clearly say fuel efficiency is good in less upgraded vehicles."
      ]
    },
    {
      "cell_type": "markdown",
      "metadata": {
        "id": "pvUt01qHN4rc"
      },
      "source": [
        "---------------------\n",
        "### Hypotheses H4 and H5\n",
        "At this point, we will formulate two hypotheses that should be confirmed or refuted based on the data:\n",
        "\n",
        "- H4: fuel efficiency improved over the years represented in this dataset (i.e., 1970 through 1982).\n",
        "- H5: Japanese cars (within the same time frame) are more fuel efficient than American or European ones."
      ]
    },
    {
      "cell_type": "markdown",
      "metadata": {
        "id": "0n9yctP0CmC9"
      },
      "source": [
        "Hint: \n",
        "\n",
        "``data['Country_code'] = data.origin.replace([1,2,3],['USA','Europe','Japan'])``\n",
        "\n"
      ]
    },
    {
      "cell_type": "code",
      "metadata": {
        "id": "fqT2s_oBOl9s",
        "colab": {
          "base_uri": "https://localhost:8080/",
          "height": 585
        },
        "outputId": "8fbe240f-a8c3-4fc5-c792-1e74ad80ec9e"
      },
      "source": [
        "#Plotting\n",
        "#Plot1 between fuel usage and car model(year of manufacturing)\n",
        "plt.title('Fuel efficiency over years')\n",
        "sns.boxplot(x=\"model\",y=\"mpg\",data=data,order=[70.0,71.0,72.0,73.0,74.0,75.0,76.0,77.0,78.0,79.0,80.0,81.0,82.0])\n",
        "plt.ylim(10,50)\n",
        "plt.show()\n",
        "data['country_name']=data.origin.replace([1.0,2.0,3.0],['USA','Europe','Japan'])\n",
        "#Plot2 bewteen fuel usage of cars that are manufactured by three different countries USA,Europe and Japan\n",
        "plt.title('Manufacturer vs Fuel efficiency')\n",
        "sns.boxplot(x=\"country_name\",y=\"mpg\",data=data,order=['USA','Europe','Japan'])\n",
        "plt.ylim(10,50)\n",
        "plt.show()"
      ],
      "execution_count": 21,
      "outputs": [
        {
          "output_type": "display_data",
          "data": {
            "text/plain": [
              "<Figure size 432x288 with 1 Axes>"
            ],
            "image/png": "[encoded data removed]"
          },
          "metadata": {
            "needs_background": "light"
          }
        },
        {
          "output_type": "display_data",
          "data": {
            "text/plain": [
              "<Figure size 432x288 with 1 Axes>"
            ],
            "image/png": "[encoded data removed]"
          },
          "metadata": {
            "needs_background": "light"
          }
        }
      ]
    },
    {
      "cell_type": "markdown",
      "metadata": {
        "id": "WkqQd3ACOnyQ"
      },
      "source": [
        "Observation:\n",
        "* Plot 1 confirms that there is an improvement in the fuel efficiency over the years.\n",
        "* The minimum point and the maximum point of the boxes in the plot over the years shows efficient fuel usage by new model cars.\n",
        "* Cars manufactured in 1980 shows a brilliant fuel efficiency and its seen in the successive years also.\n",
        "* Plot 2 shows that Japanese cars are fuel effcient than USA and European cars though few outliers are seen.\n",
        "* The median value and maximum value of Japanese cars are far more than the other two which confirms the above conclusion."
      ]
    }
  ]
}